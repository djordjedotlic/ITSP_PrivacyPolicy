{
 "cells": [
  {
   "cell_type": "code",
   "execution_count": 1,
   "metadata": {},
   "outputs": [],
   "source": [
    "import pandas as pd\n",
    "from nltk.stem import WordNetLemmatizer, SnowballStemmer\n",
    "import gensim\n",
    "from sacremoses import MosesDetokenizer\n"
   ]
  },
  {
   "cell_type": "code",
   "execution_count": 2,
   "metadata": {},
   "outputs": [
    {
     "name": "stderr",
     "output_type": "stream",
     "text": [
      "C:\\Users\\Djordje\\Anaconda3\\lib\\site-packages\\pandas\\core\\indexing.py:189: SettingWithCopyWarning: \n",
      "A value is trying to be set on a copy of a slice from a DataFrame\n",
      "\n",
      "See the caveats in the documentation: http://pandas.pydata.org/pandas-docs/stable/indexing.html#indexing-view-versus-copy\n",
      "  self._setitem_with_indexer(indexer, value)\n"
     ]
    }
   ],
   "source": [
    "pol = pd.read_csv(\"Policy.csv\", engine = \"python\", names = [\"Policy\", \"Text\"])\n",
    "non_pol = pd.read_csv(\"No_Policy - Corpus.csv\", engine = \"python\", names = [\"Policy\", \"Text\"])\n",
    "df = pd.DataFrame.append(pol, non_pol)\n",
    "#df = df.sample(frac=1).reset_index(drop=True)\n",
    "df['Policy'].loc[df['Policy'] == -1] = 0"
   ]
  },
  {
   "cell_type": "code",
   "execution_count": 3,
   "metadata": {},
   "outputs": [
    {
     "data": {
      "text/html": [
       "<div>\n",
       "<style scoped>\n",
       "    .dataframe tbody tr th:only-of-type {\n",
       "        vertical-align: middle;\n",
       "    }\n",
       "\n",
       "    .dataframe tbody tr th {\n",
       "        vertical-align: top;\n",
       "    }\n",
       "\n",
       "    .dataframe thead th {\n",
       "        text-align: right;\n",
       "    }\n",
       "</style>\n",
       "<table border=\"1\" class=\"dataframe\">\n",
       "  <thead>\n",
       "    <tr style=\"text-align: right;\">\n",
       "      <th></th>\n",
       "      <th>char_count</th>\n",
       "      <th>word_count</th>\n",
       "    </tr>\n",
       "    <tr>\n",
       "      <th>Policy</th>\n",
       "      <th></th>\n",
       "      <th></th>\n",
       "    </tr>\n",
       "  </thead>\n",
       "  <tbody>\n",
       "    <tr>\n",
       "      <th>0</th>\n",
       "      <td>4356.092105</td>\n",
       "      <td>604.25</td>\n",
       "    </tr>\n",
       "    <tr>\n",
       "      <th>1</th>\n",
       "      <td>22816.780000</td>\n",
       "      <td>3635.58</td>\n",
       "    </tr>\n",
       "  </tbody>\n",
       "</table>\n",
       "</div>"
      ],
      "text/plain": [
       "          char_count  word_count\n",
       "Policy                          \n",
       "0        4356.092105      604.25\n",
       "1       22816.780000     3635.58"
      ]
     },
     "execution_count": 3,
     "metadata": {},
     "output_type": "execute_result"
    }
   ],
   "source": [
    "df['char_count'] = df['Text'].str.len()\n",
    "df['word_count'] = df['Text'].apply(lambda x: len(str(x).split(\" \")))\n",
    "df.groupby(['Policy']).mean()"
   ]
  },
  {
   "cell_type": "code",
   "execution_count": 4,
   "metadata": {},
   "outputs": [
    {
     "data": {
      "text/plain": [
       "Policy           0.247525\n",
       "char_count    8925.569307\n",
       "word_count    1354.579208\n",
       "dtype: float64"
      ]
     },
     "execution_count": 4,
     "metadata": {},
     "output_type": "execute_result"
    }
   ],
   "source": [
    "df.mean()"
   ]
  },
  {
   "cell_type": "code",
   "execution_count": 5,
   "metadata": {},
   "outputs": [
    {
     "name": "stdout",
     "output_type": "stream",
     "text": [
      "to             9127\n",
      "the            8239\n",
      "and            7636\n",
      "you            5659\n",
      "or             5267\n",
      "of             5173\n",
      "your           4986\n",
      "information    3880\n",
      "a              3508\n",
      "in             3007\n",
      "dtype: int64 to             6716\n",
      "and            5519\n",
      "the            5472\n",
      "you            4573\n",
      "your           3926\n",
      "or             3911\n",
      "of             3527\n",
      "information    3423\n",
      "may            2150\n",
      "a              2117\n",
      "dtype: int64\n"
     ]
    }
   ],
   "source": [
    "freq_tot = pd.Series(' '.join(df['Text']).split()).value_counts()[:10]\n",
    "freq_pol = pd.Series(' '.join(pol['Text']).split()).value_counts()[:10]\n",
    "print(freq_tot, freq_pol)"
   ]
  },
  {
   "cell_type": "code",
   "execution_count": 6,
   "metadata": {},
   "outputs": [],
   "source": [
    "def lemmatize_stemming(text):\n",
    "    stemmer = SnowballStemmer(\"english\")\n",
    "    return stemmer.stem(WordNetLemmatizer().lemmatize(text, pos='v'))\n",
    "\n",
    "def preprocess(text):\n",
    "    result = []\n",
    "    for token in gensim.utils.simple_preprocess(text):\n",
    "        if token not in gensim.parsing.preprocessing.STOPWORDS and len(token) > 3:\n",
    "            result.append(lemmatize_stemming(token))   \n",
    "    return result"
   ]
  },
  {
   "cell_type": "code",
   "execution_count": 7,
   "metadata": {},
   "outputs": [],
   "source": [
    "df['Text'] = df['Text'].map(preprocess)\n",
    "pol['Text'] = pol['Text'].map(preprocess)"
   ]
  },
  {
   "cell_type": "code",
   "execution_count": 8,
   "metadata": {},
   "outputs": [
    {
     "data": {
      "text/html": [
       "<div>\n",
       "<style scoped>\n",
       "    .dataframe tbody tr th:only-of-type {\n",
       "        vertical-align: middle;\n",
       "    }\n",
       "\n",
       "    .dataframe tbody tr th {\n",
       "        vertical-align: top;\n",
       "    }\n",
       "\n",
       "    .dataframe thead th {\n",
       "        text-align: right;\n",
       "    }\n",
       "</style>\n",
       "<table border=\"1\" class=\"dataframe\">\n",
       "  <thead>\n",
       "    <tr style=\"text-align: right;\">\n",
       "      <th></th>\n",
       "      <th>char_count</th>\n",
       "      <th>word_count</th>\n",
       "    </tr>\n",
       "    <tr>\n",
       "      <th>Policy</th>\n",
       "      <th></th>\n",
       "      <th></th>\n",
       "    </tr>\n",
       "  </thead>\n",
       "  <tbody>\n",
       "    <tr>\n",
       "      <th>0</th>\n",
       "      <td>2395.447368</td>\n",
       "      <td>351.993421</td>\n",
       "    </tr>\n",
       "    <tr>\n",
       "      <th>1</th>\n",
       "      <td>11457.840000</td>\n",
       "      <td>1657.240000</td>\n",
       "    </tr>\n",
       "  </tbody>\n",
       "</table>\n",
       "</div>"
      ],
      "text/plain": [
       "          char_count   word_count\n",
       "Policy                           \n",
       "0        2395.447368   351.993421\n",
       "1       11457.840000  1657.240000"
      ]
     },
     "execution_count": 8,
     "metadata": {},
     "output_type": "execute_result"
    }
   ],
   "source": [
    "mdtk = MosesDetokenizer()\n",
    "df['Text'] = df['Text'].map(mdtk.detokenize)\n",
    "pol['Text'] = pol['Text'].map(mdtk.detokenize)\n",
    "\n",
    "df['char_count'] = df['Text'].str.len()\n",
    "df['word_count'] = df['Text'].apply(lambda x: len(str(x).split(\" \")))\n",
    "df.groupby(['Policy']).mean()"
   ]
  },
  {
   "cell_type": "code",
   "execution_count": 9,
   "metadata": {},
   "outputs": [
    {
     "name": "stdout",
     "output_type": "stream",
     "text": [
      "inform     5497\n",
      "servic     2861\n",
      "person     1698\n",
      "privaci    1599\n",
      "provid     1491\n",
      "account    1347\n",
      "cooki      1301\n",
      "collect    1254\n",
      "parti      1171\n",
      "polici     1133\n",
      "dtype: int64 inform     4829\n",
      "servic     2398\n",
      "person     1414\n",
      "privaci    1260\n",
      "provid     1221\n",
      "collect    1122\n",
      "account    1079\n",
      "cooki       941\n",
      "parti       935\n",
      "polici      905\n",
      "dtype: int64\n"
     ]
    }
   ],
   "source": [
    "freq_tot = pd.Series(' '.join(df['Text']).split()).value_counts()[:10]\n",
    "freq_pol = pd.Series(' '.join(pol['Text']).split()).value_counts()[:10]\n",
    "print(freq_tot, freq_pol)"
   ]
  },
  {
   "cell_type": "code",
   "execution_count": 10,
   "metadata": {},
   "outputs": [
    {
     "data": {
      "text/plain": [
       "Policy           0.247525\n",
       "char_count    4638.613861\n",
       "word_count     675.074257\n",
       "dtype: float64"
      ]
     },
     "execution_count": 10,
     "metadata": {},
     "output_type": "execute_result"
    }
   ],
   "source": [
    "df.mean()"
   ]
  },
  {
   "cell_type": "code",
   "execution_count": null,
   "metadata": {},
   "outputs": [],
   "source": []
  }
 ],
 "metadata": {
  "kernelspec": {
   "display_name": "Python 3",
   "language": "python",
   "name": "python3"
  },
  "language_info": {
   "codemirror_mode": {
    "name": "ipython",
    "version": 3
   },
   "file_extension": ".py",
   "mimetype": "text/x-python",
   "name": "python",
   "nbconvert_exporter": "python",
   "pygments_lexer": "ipython3",
   "version": "3.7.1"
  }
 },
 "nbformat": 4,
 "nbformat_minor": 2
}
